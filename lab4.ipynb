{
 "cells": [
  {
   "cell_type": "markdown",
   "id": "1db1cb6b-8bdb-4c43-8fbc-bae5265fb2dd",
   "metadata": {},
   "source": [
    "Win-1-21 Картанбаев Чингиз"
   ]
  },
  {
   "cell_type": "code",
   "execution_count": 16,
   "id": "71fa8701-dc40-4d5e-abbd-720aef47fd31",
   "metadata": {
    "tags": []
   },
   "outputs": [],
   "source": [
    "from sklearn.datasets import load_digits\n",
    "from sklearn.datasets import load_wine\n",
    "from sklearn.datasets import load_breast_cancer\n",
    "\n",
    "import pandas as pd\n",
    "import numpy as np\n",
    "\n",
    "import seaborn as sns\n",
    "import matplotlib.pyplot as plt\n",
    "\n",
    "from sklearn.model_selection import train_test_split\n",
    "from sklearn.neighbors import KNeighborsClassifier"
   ]
  },
  {
   "cell_type": "markdown",
   "id": "18b652cd-f575-4055-b524-43b79230f740",
   "metadata": {
    "tags": []
   },
   "source": [
    "Digits Dataset"
   ]
  },
  {
   "cell_type": "code",
   "execution_count": 2,
   "id": "a170f090-4fa8-4a6d-a32b-7690050e77d5",
   "metadata": {
    "tags": []
   },
   "outputs": [],
   "source": [
    "digits_datasets = load_digits()"
   ]
  },
  {
   "cell_type": "code",
   "execution_count": 3,
   "id": "1e671d17-27e9-4d17-b032-9570b4f28650",
   "metadata": {
    "tags": []
   },
   "outputs": [
    {
     "name": "stdout",
     "output_type": "stream",
     "text": [
      "Ключи digits_datasets: \n",
      "dict_keys(['data', 'target', 'frame', 'feature_names', 'target_names', 'images', 'DESCR'])\n"
     ]
    }
   ],
   "source": [
    "print(\"Ключи digits_datasets: \\n{}\".format(digits_datasets.keys()))"
   ]
  },
  {
   "cell_type": "code",
   "execution_count": 4,
   "id": "3e8b8a3e-895d-4799-9367-6771936e2c23",
   "metadata": {
    "tags": []
   },
   "outputs": [
    {
     "name": "stdout",
     "output_type": "stream",
     "text": [
      ".. _digits_dataset:\n",
      "\n",
      "Optical recognition of handwritten digits dataset\n",
      "--------------------------------------------------\n",
      "\n",
      "**Data Set Characteristics:**\n",
      "\n",
      "    :Number of Instances: 1797\n",
      "    :Number of Attributes: 64\n",
      "    :Attribute Information: 8x8 image of integer pixels in the range 0..16.\n",
      "    :Missing Attribute Values: None\n",
      "    :Creator: E. Alpaydin (alpaydin '@' boun.edu.tr)\n",
      "    :Date: July; 1998\n",
      "\n",
      "This is a copy of the test set of the UCI ML hand-written digits datasets\n",
      "https://archive.ics.uci.edu/ml/datasets/Optical+Recognition+of+Handwritten+Digits\n",
      "\n",
      "The data set contains images of hand-written digits: 10 classes where\n",
      "each class refers to a digit.\n",
      "\n",
      "Preprocessing programs made available by NIST were used to extract\n",
      "normalized bitmaps of handwritten digits from a preprinted form. From a\n",
      "total of 43 people, 30 contributed to the training set and different 13\n",
      "to the test set. 32x32 bitmaps are divided into nonoverlapping blocks of\n",
      "4x4 and the number of on pixels are counted in each blo\n",
      "...\n"
     ]
    }
   ],
   "source": [
    "print(digits_datasets['DESCR'][:1000] + \"\\n...\")"
   ]
  },
  {
   "cell_type": "code",
   "execution_count": 5,
   "id": "8c06c471-6d09-4229-bbd2-0de4918c5eb7",
   "metadata": {
    "tags": []
   },
   "outputs": [
    {
     "name": "stdout",
     "output_type": "stream",
     "text": [
      "Название ответов: \n",
      "[0 1 2 3 4 5 6 7 8 9]\n"
     ]
    }
   ],
   "source": [
    "print(\"Название ответов: \\n{}\".format(digits_datasets['target_names']))"
   ]
  },
  {
   "cell_type": "code",
   "execution_count": 6,
   "id": "aa226eaa-603a-4799-86f2-17727243a2ee",
   "metadata": {
    "tags": []
   },
   "outputs": [
    {
     "name": "stdout",
     "output_type": "stream",
     "text": [
      "Название признаков: \n",
      "['pixel_0_0', 'pixel_0_1', 'pixel_0_2', 'pixel_0_3', 'pixel_0_4', 'pixel_0_5', 'pixel_0_6', 'pixel_0_7', 'pixel_1_0', 'pixel_1_1', 'pixel_1_2', 'pixel_1_3', 'pixel_1_4', 'pixel_1_5', 'pixel_1_6', 'pixel_1_7', 'pixel_2_0', 'pixel_2_1', 'pixel_2_2', 'pixel_2_3', 'pixel_2_4', 'pixel_2_5', 'pixel_2_6', 'pixel_2_7', 'pixel_3_0', 'pixel_3_1', 'pixel_3_2', 'pixel_3_3', 'pixel_3_4', 'pixel_3_5', 'pixel_3_6', 'pixel_3_7', 'pixel_4_0', 'pixel_4_1', 'pixel_4_2', 'pixel_4_3', 'pixel_4_4', 'pixel_4_5', 'pixel_4_6', 'pixel_4_7', 'pixel_5_0', 'pixel_5_1', 'pixel_5_2', 'pixel_5_3', 'pixel_5_4', 'pixel_5_5', 'pixel_5_6', 'pixel_5_7', 'pixel_6_0', 'pixel_6_1', 'pixel_6_2', 'pixel_6_3', 'pixel_6_4', 'pixel_6_5', 'pixel_6_6', 'pixel_6_7', 'pixel_7_0', 'pixel_7_1', 'pixel_7_2', 'pixel_7_3', 'pixel_7_4', 'pixel_7_5', 'pixel_7_6', 'pixel_7_7']\n"
     ]
    }
   ],
   "source": [
    "print(\"Название признаков: \\n{}\".format(digits_datasets['feature_names']))"
   ]
  },
  {
   "cell_type": "code",
   "execution_count": 7,
   "id": "14f6ae9b-501d-44f3-a2b7-1edbdd8a268d",
   "metadata": {
    "tags": []
   },
   "outputs": [
    {
     "name": "stdout",
     "output_type": "stream",
     "text": [
      "Форма массива digits_datasets: (1797, 64)\n"
     ]
    }
   ],
   "source": [
    "print(\"Форма массива digits_datasets: {}\".format(digits_datasets['data'].shape))"
   ]
  },
  {
   "cell_type": "code",
   "execution_count": 8,
   "id": "e47760f7-4fd5-4ca5-9d91-d4986269f03b",
   "metadata": {
    "tags": []
   },
   "outputs": [
    {
     "name": "stdout",
     "output_type": "stream",
     "text": [
      "Форма массива target: (1797,)\n"
     ]
    }
   ],
   "source": [
    "print(\"Форма массива target: {}\".format(digits_datasets['target'].shape))"
   ]
  },
  {
   "cell_type": "code",
   "execution_count": 9,
   "id": "5918fe74-6cde-4501-956e-b4c136165018",
   "metadata": {
    "tags": []
   },
   "outputs": [
    {
     "name": "stdout",
     "output_type": "stream",
     "text": [
      "Ответы: \n",
      "[0 1 2 ... 8 9 8]\n"
     ]
    }
   ],
   "source": [
    "print(\"Ответы: \\n{}\".format(digits_datasets['target']))"
   ]
  },
  {
   "cell_type": "code",
   "execution_count": 10,
   "id": "d482f6fa-7822-4344-9373-05ee731e82d4",
   "metadata": {
    "tags": []
   },
   "outputs": [
    {
     "data": {
      "image/png": "[encoded data removed]",
      "text/plain": [
       "<Figure size 640x480 with 10 Axes>"
      ]
     },
     "metadata": {},
     "output_type": "display_data"
    }
   ],
   "source": [
    "images = digits_datasets.images\n",
    "labels = digits_datasets.target\n",
    "\n",
    "fig, axes = plt.subplots(2, 5)\n",
    "for i, ax in enumerate(axes.ravel()):\n",
    "    ax.imshow(images[i], cmap=plt.cm.gray)\n",
    "    ax.set_title(f\"Digit: {labels[i]}\")\n",
    "    ax.axis('off')\n",
    "plt.show()\n"
   ]
  },
  {
   "cell_type": "code",
   "execution_count": 11,
   "id": "38ed5468-7c37-4e47-b486-b57da57e3622",
   "metadata": {
    "tags": []
   },
   "outputs": [
    {
     "data": {
      "image/png": "[encoded data removed]",
      "text/plain": [
       "<Figure size 800x400 with 1 Axes>"
      ]
     },
     "metadata": {},
     "output_type": "display_data"
    }
   ],
   "source": [
    "labels = digits_datasets.target\n",
    "\n",
    "number_counts = np.bincount(labels)\n",
    "\n",
    "plt.figure(figsize=(8, 4))\n",
    "plt.hist(labels, bins=np.arange(11) - 0.5, rwidth=0.8, alpha=0.7, color='b', edgecolor='k')\n",
    "plt.xticks(range(10))\n",
    "plt.xlabel('Digits')\n",
    "plt.ylabel('Count')\n",
    "plt.title('Histogram of Digit Counts')\n",
    "plt.show()"
   ]
  },
  {
   "cell_type": "code",
   "execution_count": 12,
   "id": "75fb87cd-62f5-4557-b8b8-e2cc948e7bf7",
   "metadata": {
    "tags": []
   },
   "outputs": [
    {
     "data": {
      "image/png": "[encoded data removed]",
      "text/plain": [
       "<Figure size 600x600 with 1 Axes>"
      ]
     },
     "metadata": {},
     "output_type": "display_data"
    }
   ],
   "source": [
    "plt.figure(figsize=(6, 6))\n",
    "plt.pie(number_counts, labels=range(10), autopct='%1.1f%%', startangle=140)\n",
    "plt.title('Pie Chart of Digit Counts')\n",
    "plt.show() "
   ]
  },
  {
   "cell_type": "code",
   "execution_count": 27,
   "id": "084ae192-a329-422f-8a84-9cd41cd79245",
   "metadata": {
    "tags": []
   },
   "outputs": [],
   "source": [
    "X_train, X_test, y_train, y_test = train_test_split(digits_datasets['data'], digits_datasets['target'], random_state = 0)"
   ]
  },
  {
   "cell_type": "code",
   "execution_count": 28,
   "id": "0d1fec1c-e6c1-4fc5-96e6-4a109b7dddf8",
   "metadata": {
    "tags": []
   },
   "outputs": [
    {
     "data": {
      "text/html": [
       "<style>#sk-container-id-2 {color: black;}#sk-container-id-2 pre{padding: 0;}#sk-container-id-2 div.sk-toggleable {background-color: white;}#sk-container-id-2 label.sk-toggleable__label {cursor: pointer;display: block;width: 100%;margin-bottom: 0;padding: 0.3em;box-sizing: border-box;text-align: center;}#sk-container-id-2 label.sk-toggleable__label-arrow:before {content: \"▸\";float: left;margin-right: 0.25em;color: #696969;}#sk-container-id-2 label.sk-toggleable__label-arrow:hover:before {color: black;}#sk-container-id-2 div.sk-estimator:hover label.sk-toggleable__label-arrow:before {color: black;}#sk-container-id-2 div.sk-toggleable__content {max-height: 0;max-width: 0;overflow: hidden;text-align: left;background-color: #f0f8ff;}#sk-container-id-2 div.sk-toggleable__content pre {margin: 0.2em;color: black;border-radius: 0.25em;background-color: #f0f8ff;}#sk-container-id-2 input.sk-toggleable__control:checked~div.sk-toggleable__content {max-height: 200px;max-width: 100%;overflow: auto;}#sk-container-id-2 input.sk-toggleable__control:checked~label.sk-toggleable__label-arrow:before {content: \"▾\";}#sk-container-id-2 div.sk-estimator input.sk-toggleable__control:checked~label.sk-toggleable__label {background-color: #d4ebff;}#sk-container-id-2 div.sk-label input.sk-toggleable__control:checked~label.sk-toggleable__label {background-color: #d4ebff;}#sk-container-id-2 input.sk-hidden--visually {border: 0;clip: rect(1px 1px 1px 1px);clip: rect(1px, 1px, 1px, 1px);height: 1px;margin: -1px;overflow: hidden;padding: 0;position: absolute;width: 1px;}#sk-container-id-2 div.sk-estimator {font-family: monospace;background-color: #f0f8ff;border: 1px dotted black;border-radius: 0.25em;box-sizing: border-box;margin-bottom: 0.5em;}#sk-container-id-2 div.sk-estimator:hover {background-color: #d4ebff;}#sk-container-id-2 div.sk-parallel-item::after {content: \"\";width: 100%;border-bottom: 1px solid gray;flex-grow: 1;}#sk-container-id-2 div.sk-label:hover label.sk-toggleable__label {background-color: #d4ebff;}#sk-container-id-2 div.sk-serial::before {content: \"\";position: absolute;border-left: 1px solid gray;box-sizing: border-box;top: 0;bottom: 0;left: 50%;z-index: 0;}#sk-container-id-2 div.sk-serial {display: flex;flex-direction: column;align-items: center;background-color: white;padding-right: 0.2em;padding-left: 0.2em;position: relative;}#sk-container-id-2 div.sk-item {position: relative;z-index: 1;}#sk-container-id-2 div.sk-parallel {display: flex;align-items: stretch;justify-content: center;background-color: white;position: relative;}#sk-container-id-2 div.sk-item::before, #sk-container-id-2 div.sk-parallel-item::before {content: \"\";position: absolute;border-left: 1px solid gray;box-sizing: border-box;top: 0;bottom: 0;left: 50%;z-index: -1;}#sk-container-id-2 div.sk-parallel-item {display: flex;flex-direction: column;z-index: 1;position: relative;background-color: white;}#sk-container-id-2 div.sk-parallel-item:first-child::after {align-self: flex-end;width: 50%;}#sk-container-id-2 div.sk-parallel-item:last-child::after {align-self: flex-start;width: 50%;}#sk-container-id-2 div.sk-parallel-item:only-child::after {width: 0;}#sk-container-id-2 div.sk-dashed-wrapped {border: 1px dashed gray;margin: 0 0.4em 0.5em 0.4em;box-sizing: border-box;padding-bottom: 0.4em;background-color: white;}#sk-container-id-2 div.sk-label label {font-family: monospace;font-weight: bold;display: inline-block;line-height: 1.2em;}#sk-container-id-2 div.sk-label-container {text-align: center;}#sk-container-id-2 div.sk-container {/* jupyter's `normalize.less` sets `[hidden] { display: none; }` but bootstrap.min.css set `[hidden] { display: none !important; }` so we also need the `!important` here to be able to override the default hidden behavior on the sphinx rendered scikit-learn.org. See: https://github.com/scikit-learn/scikit-learn/issues/21755 */display: inline-block !important;position: relative;}#sk-container-id-2 div.sk-text-repr-fallback {display: none;}</style><div id=\"sk-container-id-2\" class=\"sk-top-container\"><div class=\"sk-text-repr-fallback\"><pre>KNeighborsClassifier(n_neighbors=4)</pre><b>In a Jupyter environment, please rerun this cell to show the HTML representation or trust the notebook. <br />On GitHub, the HTML representation is unable to render, please try loading this page with nbviewer.org.</b></div><div class=\"sk-container\" hidden><div class=\"sk-item\"><div class=\"sk-estimator sk-toggleable\"><input class=\"sk-toggleable__control sk-hidden--visually\" id=\"sk-estimator-id-2\" type=\"checkbox\" checked><label for=\"sk-estimator-id-2\" class=\"sk-toggleable__label sk-toggleable__label-arrow\">KNeighborsClassifier</label><div class=\"sk-toggleable__content\"><pre>KNeighborsClassifier(n_neighbors=4)</pre></div></div></div></div></div>"
      ],
      "text/plain": [
       "KNeighborsClassifier(n_neighbors=4)"
      ]
     },
     "execution_count": 28,
     "metadata": {},
     "output_type": "execute_result"
    }
   ],
   "source": [
    "knn1 = KNeighborsClassifier(n_neighbors=1)\n",
    "knn1.fit(X_train, y_train)\n",
    "\n",
    "knn2 = KNeighborsClassifier(n_neighbors=2)\n",
    "knn2.fit(X_train, y_train)\n",
    "\n",
    "knn3 = KNeighborsClassifier(n_neighbors=3)\n",
    "knn3.fit(X_train, y_train)\n",
    "\n",
    "knn4 = KNeighborsClassifier(n_neighbors=4)\n",
    "knn4.fit(X_train, y_train)"
   ]
  },
  {
   "cell_type": "code",
   "execution_count": 29,
   "id": "3988d824-4952-486e-b736-1ff78744885a",
   "metadata": {
    "tags": []
   },
   "outputs": [
    {
     "name": "stdout",
     "output_type": "stream",
     "text": [
      "Correctness for 1 neighbor: 0.9911111111111112\n",
      "Correctness for 2 neighbors: 0.9844444444444445\n",
      "Correctness for 3 neighbors: 0.9866666666666667\n",
      "Correctness for 4 neighbors: 0.98\n"
     ]
    }
   ],
   "source": [
    "print(\"Correctness for 1 neighbor: \" + str(knn1.score(X_test, y_test)))\n",
    "print(\"Correctness for 2 neighbors: \" + str(knn2.score(X_test, y_test)))\n",
    "print(\"Correctness for 3 neighbors: \" + str(knn3.score(X_test, y_test)))\n",
    "print(\"Correctness for 4 neighbors: \" + str(knn4.score(X_test, y_test)))\n"
   ]
  },
  {
   "cell_type": "markdown",
   "id": "59b9bf7e-2294-4b57-97fb-ead5678a2471",
   "metadata": {},
   "source": [
    "Вывод: Модель load_digits в библиотеке scikit-learn представляет собой набор данных, содержащий изображения рукописных цифр от 0 до 9. Обычно он используется для задачи распознавания рукописных цифр. Наибольший процент правильных ответов был достигнуто при числе соседей равном 1 и их увеличение не улучшило результат. Соответственно вывод - модель правильно классифицировала большинство цифр."
   ]
  },
  {
   "cell_type": "markdown",
   "id": "3bd17979-e790-480b-aee1-a866ac84c9d2",
   "metadata": {},
   "source": [
    "Wine Dataset"
   ]
  },
  {
   "cell_type": "code",
   "execution_count": 32,
   "id": "f489c06f-7e82-419b-b76a-19218754daef",
   "metadata": {
    "tags": []
   },
   "outputs": [],
   "source": [
    "wine_dataset = load_wine()"
   ]
  },
  {
   "cell_type": "code",
   "execution_count": null,
   "id": "1e4bdbad-609e-48cf-b369-00b4e97545ec",
   "metadata": {
    "tags": []
   },
   "outputs": [],
   "source": [
    "print(\"Ключи wine_dataset: \\n{}\".format(wine_dataset.keys()))"
   ]
  },
  {
   "cell_type": "code",
   "execution_count": null,
   "id": "fadab448-93e6-4381-9f32-579993f56db3",
   "metadata": {
    "tags": []
   },
   "outputs": [],
   "source": [
    "print(wine_dataset['DESCR'][:1000] + \"\\n...\")"
   ]
  },
  {
   "cell_type": "code",
   "execution_count": null,
   "id": "db93db2f-fec9-4963-9234-1d74177f58ca",
   "metadata": {
    "tags": []
   },
   "outputs": [],
   "source": [
    "print(\"Название ответов: \\n{}\".format(wine_dataset['target_names']))"
   ]
  },
  {
   "cell_type": "code",
   "execution_count": null,
   "id": "27d88016-612a-40c1-a73c-6ae60c2420ef",
   "metadata": {
    "tags": []
   },
   "outputs": [],
   "source": [
    "print(\"Название признаков: \\n{}\".format(wine_dataset['feature_names']))"
   ]
  },
  {
   "cell_type": "code",
   "execution_count": null,
   "id": "49f9f78d-e459-42f1-a9d7-8cce14695cd7",
   "metadata": {
    "tags": []
   },
   "outputs": [],
   "source": [
    "print(\"Форма массива wine_dataset: {}\".format(wine_dataset['data'].shape))"
   ]
  },
  {
   "cell_type": "code",
   "execution_count": null,
   "id": "5b71566c-b48d-43f5-9a09-fcc6fce568b5",
   "metadata": {
    "tags": []
   },
   "outputs": [],
   "source": [
    "print(\"Форма массива target: {}\".format(wine_dataset['target'].shape))"
   ]
  },
  {
   "cell_type": "code",
   "execution_count": null,
   "id": "8878e427-1874-41ac-a36c-6c0d70f51f57",
   "metadata": {
    "tags": []
   },
   "outputs": [],
   "source": [
    "print(\"Ответы: \\n{}\".format(wine_dataset['target']))"
   ]
  },
  {
   "cell_type": "code",
   "execution_count": null,
   "id": "00f943cd-36ab-4875-ae9f-f112cb361640",
   "metadata": {
    "tags": []
   },
   "outputs": [],
   "source": [
    "X = wine_dataset.data\n",
    "y = wine_dataset.target\n",
    "feature_names = wine_dataset.feature_names\n",
    "\n",
    "wine_df = pd.DataFrame(X, columns=feature_names)\n",
    "wine_df['class'] = y\n",
    "\n",
    "sns.pairplot(wine_df, hue='class')\n",
    "plt.show()"
   ]
  },
  {
   "cell_type": "code",
   "execution_count": null,
   "id": "eb1d9441-12be-4c93-85c0-10166945ac36",
   "metadata": {
    "tags": []
   },
   "outputs": [],
   "source": [
    "class_labels, class_counts = zip(*sorted(\n",
    "    zip(wine_dataset['target_names'], [sum(wine_dataset['target'] == i) for i in range(len(wine_dataset['target_names']))])))\n",
    "\n",
    "plt.figure(figsize=(8, 8))\n",
    "plt.pie(class_counts, labels=class_labels, autopct='%1.1f%%', startangle=140)\n",
    "plt.show()"
   ]
  },
  {
   "cell_type": "code",
   "execution_count": null,
   "id": "da2f5f84-8513-4928-ab32-0b88a5694280",
   "metadata": {
    "tags": []
   },
   "outputs": [],
   "source": [
    "X = wine_dataset.data\n",
    "feature_names = wine_dataset.feature_names\n",
    "\n",
    "wine_df = pd.DataFrame(X, columns=feature_names)\n",
    "\n",
    "selected_features = ['alcohol', 'flavanoids', 'color_intensity']\n",
    "wine_df[selected_features].hist(bins=15, figsize=(12, 6))\n",
    "plt.suptitle(\"Histograms of Selected Wine Features\", fontsize=16)\n",
    "plt.show()\n"
   ]
  },
  {
   "cell_type": "code",
   "execution_count": 33,
   "id": "4bd385bf-c785-423f-867c-ca53ce0a558e",
   "metadata": {
    "tags": []
   },
   "outputs": [],
   "source": [
    "X_train, X_test, y_train, y_test = train_test_split(wine_dataset['data'], wine_dataset['target'], random_state = 0)"
   ]
  },
  {
   "cell_type": "code",
   "execution_count": 34,
   "id": "0861d083-7945-4e11-bae7-b76a81946d3b",
   "metadata": {
    "tags": []
   },
   "outputs": [
    {
     "data": {
      "text/html": [
       "<style>#sk-container-id-4 {color: black;}#sk-container-id-4 pre{padding: 0;}#sk-container-id-4 div.sk-toggleable {background-color: white;}#sk-container-id-4 label.sk-toggleable__label {cursor: pointer;display: block;width: 100%;margin-bottom: 0;padding: 0.3em;box-sizing: border-box;text-align: center;}#sk-container-id-4 label.sk-toggleable__label-arrow:before {content: \"▸\";float: left;margin-right: 0.25em;color: #696969;}#sk-container-id-4 label.sk-toggleable__label-arrow:hover:before {color: black;}#sk-container-id-4 div.sk-estimator:hover label.sk-toggleable__label-arrow:before {color: black;}#sk-container-id-4 div.sk-toggleable__content {max-height: 0;max-width: 0;overflow: hidden;text-align: left;background-color: #f0f8ff;}#sk-container-id-4 div.sk-toggleable__content pre {margin: 0.2em;color: black;border-radius: 0.25em;background-color: #f0f8ff;}#sk-container-id-4 input.sk-toggleable__control:checked~div.sk-toggleable__content {max-height: 200px;max-width: 100%;overflow: auto;}#sk-container-id-4 input.sk-toggleable__control:checked~label.sk-toggleable__label-arrow:before {content: \"▾\";}#sk-container-id-4 div.sk-estimator input.sk-toggleable__control:checked~label.sk-toggleable__label {background-color: #d4ebff;}#sk-container-id-4 div.sk-label input.sk-toggleable__control:checked~label.sk-toggleable__label {background-color: #d4ebff;}#sk-container-id-4 input.sk-hidden--visually {border: 0;clip: rect(1px 1px 1px 1px);clip: rect(1px, 1px, 1px, 1px);height: 1px;margin: -1px;overflow: hidden;padding: 0;position: absolute;width: 1px;}#sk-container-id-4 div.sk-estimator {font-family: monospace;background-color: #f0f8ff;border: 1px dotted black;border-radius: 0.25em;box-sizing: border-box;margin-bottom: 0.5em;}#sk-container-id-4 div.sk-estimator:hover {background-color: #d4ebff;}#sk-container-id-4 div.sk-parallel-item::after {content: \"\";width: 100%;border-bottom: 1px solid gray;flex-grow: 1;}#sk-container-id-4 div.sk-label:hover label.sk-toggleable__label {background-color: #d4ebff;}#sk-container-id-4 div.sk-serial::before {content: \"\";position: absolute;border-left: 1px solid gray;box-sizing: border-box;top: 0;bottom: 0;left: 50%;z-index: 0;}#sk-container-id-4 div.sk-serial {display: flex;flex-direction: column;align-items: center;background-color: white;padding-right: 0.2em;padding-left: 0.2em;position: relative;}#sk-container-id-4 div.sk-item {position: relative;z-index: 1;}#sk-container-id-4 div.sk-parallel {display: flex;align-items: stretch;justify-content: center;background-color: white;position: relative;}#sk-container-id-4 div.sk-item::before, #sk-container-id-4 div.sk-parallel-item::before {content: \"\";position: absolute;border-left: 1px solid gray;box-sizing: border-box;top: 0;bottom: 0;left: 50%;z-index: -1;}#sk-container-id-4 div.sk-parallel-item {display: flex;flex-direction: column;z-index: 1;position: relative;background-color: white;}#sk-container-id-4 div.sk-parallel-item:first-child::after {align-self: flex-end;width: 50%;}#sk-container-id-4 div.sk-parallel-item:last-child::after {align-self: flex-start;width: 50%;}#sk-container-id-4 div.sk-parallel-item:only-child::after {width: 0;}#sk-container-id-4 div.sk-dashed-wrapped {border: 1px dashed gray;margin: 0 0.4em 0.5em 0.4em;box-sizing: border-box;padding-bottom: 0.4em;background-color: white;}#sk-container-id-4 div.sk-label label {font-family: monospace;font-weight: bold;display: inline-block;line-height: 1.2em;}#sk-container-id-4 div.sk-label-container {text-align: center;}#sk-container-id-4 div.sk-container {/* jupyter's `normalize.less` sets `[hidden] { display: none; }` but bootstrap.min.css set `[hidden] { display: none !important; }` so we also need the `!important` here to be able to override the default hidden behavior on the sphinx rendered scikit-learn.org. See: https://github.com/scikit-learn/scikit-learn/issues/21755 */display: inline-block !important;position: relative;}#sk-container-id-4 div.sk-text-repr-fallback {display: none;}</style><div id=\"sk-container-id-4\" class=\"sk-top-container\"><div class=\"sk-text-repr-fallback\"><pre>KNeighborsClassifier(n_neighbors=4)</pre><b>In a Jupyter environment, please rerun this cell to show the HTML representation or trust the notebook. <br />On GitHub, the HTML representation is unable to render, please try loading this page with nbviewer.org.</b></div><div class=\"sk-container\" hidden><div class=\"sk-item\"><div class=\"sk-estimator sk-toggleable\"><input class=\"sk-toggleable__control sk-hidden--visually\" id=\"sk-estimator-id-4\" type=\"checkbox\" checked><label for=\"sk-estimator-id-4\" class=\"sk-toggleable__label sk-toggleable__label-arrow\">KNeighborsClassifier</label><div class=\"sk-toggleable__content\"><pre>KNeighborsClassifier(n_neighbors=4)</pre></div></div></div></div></div>"
      ],
      "text/plain": [
       "KNeighborsClassifier(n_neighbors=4)"
      ]
     },
     "execution_count": 34,
     "metadata": {},
     "output_type": "execute_result"
    }
   ],
   "source": [
    "knn1 = KNeighborsClassifier(n_neighbors=1)\n",
    "knn1.fit(X_train, y_train)\n",
    "\n",
    "knn2 = KNeighborsClassifier(n_neighbors=2)\n",
    "knn2.fit(X_train, y_train)\n",
    "\n",
    "knn3 = KNeighborsClassifier(n_neighbors=3)\n",
    "knn3.fit(X_train, y_train)\n",
    "\n",
    "knn4 = KNeighborsClassifier(n_neighbors=4)\n",
    "knn4.fit(X_train, y_train)"
   ]
  },
  {
   "cell_type": "code",
   "execution_count": 35,
   "id": "5e56a964-64d2-4b8f-b1d7-aced7e9f26af",
   "metadata": {
    "tags": []
   },
   "outputs": [
    {
     "name": "stdout",
     "output_type": "stream",
     "text": [
      "Correctness for 1 neighbor: 0.7555555555555555\n",
      "Correctness for 2 neighbors: 0.7333333333333333\n",
      "Correctness for 3 neighbors: 0.7333333333333333\n",
      "Correctness for 4 neighbors: 0.7777777777777778\n"
     ]
    }
   ],
   "source": [
    "print(\"Correctness for 1 neighbor: \" + str(knn1.score(X_test, y_test)))\n",
    "print(\"Correctness for 2 neighbors: \" + str(knn2.score(X_test, y_test)))\n",
    "print(\"Correctness for 3 neighbors: \" + str(knn3.score(X_test, y_test)))\n",
    "print(\"Correctness for 4 neighbors: \" + str(knn4.score(X_test, y_test)))"
   ]
  },
  {
   "cell_type": "markdown",
   "id": "018df60d-dd6c-4b28-829d-84532a0d2971",
   "metadata": {
    "tags": []
   },
   "source": [
    "Вывод: load_wine - это еще один набор данных, предоставляемый библиотекой scikit-learn. Он содержит информацию о характеристиках вин из трех разных сортов. Модель показала наилучший результат при числе соседей равном 4. Увеличение числа соседей также не улучшает результативность модели. Таким образом, модель, постороенная методом k-ближайших средних, предсказывает результаты с невысокой точностью и данный метод плохо подходит для выбранного датасета."
   ]
  },
  {
   "cell_type": "markdown",
   "id": "13825c8e-7c38-45ba-8bf0-8290e3948c7b",
   "metadata": {},
   "source": [
    "Breast Cancer Dataset"
   ]
  },
  {
   "cell_type": "code",
   "execution_count": 36,
   "id": "d1d78fd7-48aa-4e2e-89f7-ab0aa35124bd",
   "metadata": {
    "tags": []
   },
   "outputs": [],
   "source": [
    "cancer_dataset = load_breast_cancer()"
   ]
  },
  {
   "cell_type": "code",
   "execution_count": null,
   "id": "f8ed909b-afb5-4deb-97b0-aa2eca8274cf",
   "metadata": {
    "tags": []
   },
   "outputs": [],
   "source": [
    "print(\"Ключи cancer_dataset: \\n{}\".format(cancer_dataset.keys()))"
   ]
  },
  {
   "cell_type": "code",
   "execution_count": null,
   "id": "b7f2684a-9c22-4694-8700-19fa5e1feaa4",
   "metadata": {
    "tags": []
   },
   "outputs": [],
   "source": [
    "print(cancer_dataset['DESCR'][:1000] + \"\\n...\")"
   ]
  },
  {
   "cell_type": "code",
   "execution_count": null,
   "id": "b00664f5-eb59-4a4a-996a-f2c3d63d09fb",
   "metadata": {
    "tags": []
   },
   "outputs": [],
   "source": [
    "print(\"Название ответов: \\n{}\".format(cancer_dataset['target_names']))"
   ]
  },
  {
   "cell_type": "code",
   "execution_count": null,
   "id": "e85763bf-5af7-41a0-bf1a-31fcba1b6b9e",
   "metadata": {
    "tags": []
   },
   "outputs": [],
   "source": [
    "print(\"Название признаков: \\n{}\".format(cancer_dataset['feature_names']))"
   ]
  },
  {
   "cell_type": "code",
   "execution_count": null,
   "id": "f682fd7b-7da3-4fbc-a0ba-2c0244c28eaf",
   "metadata": {
    "tags": []
   },
   "outputs": [],
   "source": [
    "print(\"Форма массива cancer_dataset: {}\".format(cancer_dataset['data'].shape))"
   ]
  },
  {
   "cell_type": "code",
   "execution_count": null,
   "id": "79d6aa42-581f-44d7-85c8-bd6042cbf7c3",
   "metadata": {
    "tags": []
   },
   "outputs": [],
   "source": [
    "print(\"Форма массива target: {}\".format(cancer_dataset['target'].shape))"
   ]
  },
  {
   "cell_type": "code",
   "execution_count": null,
   "id": "3d2977d2-65a5-4597-9d53-8afccbac81c1",
   "metadata": {
    "tags": []
   },
   "outputs": [],
   "source": [
    "print(\"Ответы: \\n{}\".format(cancer_dataset['target']))"
   ]
  },
  {
   "cell_type": "code",
   "execution_count": null,
   "id": "b954c391-0fd8-478b-9f6b-36ff5499b7cb",
   "metadata": {
    "tags": []
   },
   "outputs": [],
   "source": [
    "X = cancer_dataset.data\n",
    "feature_names = cancer_dataset.feature_names\n",
    "\n",
    "# Create a DataFrame with feature names as columns\n",
    "cancer_df = pd.DataFrame(X, columns=feature_names)\n",
    "\n",
    "# Create histograms for selected features\n",
    "selected_features = ['mean radius', 'mean texture', 'mean area']\n",
    "cancer_df[selected_features].hist(bins=15, figsize=(12, 6))\n",
    "plt.suptitle(\"Histograms of Selected Cancer Features\", fontsize=16)\n",
    "plt.show()\n"
   ]
  },
  {
   "cell_type": "code",
   "execution_count": null,
   "id": "6a303b86-c715-4d72-b320-b3ec43d75aff",
   "metadata": {
    "tags": []
   },
   "outputs": [],
   "source": [
    "target_names = cancer_dataset.target_names\n",
    "class_counts = [sum(cancer_dataset.target == i) for i in range(len(target_names))]\n",
    "\n",
    "plt.figure(figsize=(3, 3))\n",
    "plt.pie(class_counts, labels=target_names, autopct='%1.1f%%', startangle=140)\n",
    "plt.axis('equal')\n",
    "plt.title(\"Class ratio in breast cancer dataset\")\n",
    "plt.show()"
   ]
  },
  {
   "cell_type": "code",
   "execution_count": 37,
   "id": "07af180e-af63-4297-b506-14116a127780",
   "metadata": {
    "tags": []
   },
   "outputs": [],
   "source": [
    "X_train, X_test, y_train, y_test = train_test_split(cancer_dataset['data'], cancer_dataset['target'], random_state = 0)"
   ]
  },
  {
   "cell_type": "code",
   "execution_count": 38,
   "id": "c16ee180-77e1-4abf-befa-744c48ede72d",
   "metadata": {
    "tags": []
   },
   "outputs": [
    {
     "data": {
      "text/html": [
       "<style>#sk-container-id-5 {color: black;}#sk-container-id-5 pre{padding: 0;}#sk-container-id-5 div.sk-toggleable {background-color: white;}#sk-container-id-5 label.sk-toggleable__label {cursor: pointer;display: block;width: 100%;margin-bottom: 0;padding: 0.3em;box-sizing: border-box;text-align: center;}#sk-container-id-5 label.sk-toggleable__label-arrow:before {content: \"▸\";float: left;margin-right: 0.25em;color: #696969;}#sk-container-id-5 label.sk-toggleable__label-arrow:hover:before {color: black;}#sk-container-id-5 div.sk-estimator:hover label.sk-toggleable__label-arrow:before {color: black;}#sk-container-id-5 div.sk-toggleable__content {max-height: 0;max-width: 0;overflow: hidden;text-align: left;background-color: #f0f8ff;}#sk-container-id-5 div.sk-toggleable__content pre {margin: 0.2em;color: black;border-radius: 0.25em;background-color: #f0f8ff;}#sk-container-id-5 input.sk-toggleable__control:checked~div.sk-toggleable__content {max-height: 200px;max-width: 100%;overflow: auto;}#sk-container-id-5 input.sk-toggleable__control:checked~label.sk-toggleable__label-arrow:before {content: \"▾\";}#sk-container-id-5 div.sk-estimator input.sk-toggleable__control:checked~label.sk-toggleable__label {background-color: #d4ebff;}#sk-container-id-5 div.sk-label input.sk-toggleable__control:checked~label.sk-toggleable__label {background-color: #d4ebff;}#sk-container-id-5 input.sk-hidden--visually {border: 0;clip: rect(1px 1px 1px 1px);clip: rect(1px, 1px, 1px, 1px);height: 1px;margin: -1px;overflow: hidden;padding: 0;position: absolute;width: 1px;}#sk-container-id-5 div.sk-estimator {font-family: monospace;background-color: #f0f8ff;border: 1px dotted black;border-radius: 0.25em;box-sizing: border-box;margin-bottom: 0.5em;}#sk-container-id-5 div.sk-estimator:hover {background-color: #d4ebff;}#sk-container-id-5 div.sk-parallel-item::after {content: \"\";width: 100%;border-bottom: 1px solid gray;flex-grow: 1;}#sk-container-id-5 div.sk-label:hover label.sk-toggleable__label {background-color: #d4ebff;}#sk-container-id-5 div.sk-serial::before {content: \"\";position: absolute;border-left: 1px solid gray;box-sizing: border-box;top: 0;bottom: 0;left: 50%;z-index: 0;}#sk-container-id-5 div.sk-serial {display: flex;flex-direction: column;align-items: center;background-color: white;padding-right: 0.2em;padding-left: 0.2em;position: relative;}#sk-container-id-5 div.sk-item {position: relative;z-index: 1;}#sk-container-id-5 div.sk-parallel {display: flex;align-items: stretch;justify-content: center;background-color: white;position: relative;}#sk-container-id-5 div.sk-item::before, #sk-container-id-5 div.sk-parallel-item::before {content: \"\";position: absolute;border-left: 1px solid gray;box-sizing: border-box;top: 0;bottom: 0;left: 50%;z-index: -1;}#sk-container-id-5 div.sk-parallel-item {display: flex;flex-direction: column;z-index: 1;position: relative;background-color: white;}#sk-container-id-5 div.sk-parallel-item:first-child::after {align-self: flex-end;width: 50%;}#sk-container-id-5 div.sk-parallel-item:last-child::after {align-self: flex-start;width: 50%;}#sk-container-id-5 div.sk-parallel-item:only-child::after {width: 0;}#sk-container-id-5 div.sk-dashed-wrapped {border: 1px dashed gray;margin: 0 0.4em 0.5em 0.4em;box-sizing: border-box;padding-bottom: 0.4em;background-color: white;}#sk-container-id-5 div.sk-label label {font-family: monospace;font-weight: bold;display: inline-block;line-height: 1.2em;}#sk-container-id-5 div.sk-label-container {text-align: center;}#sk-container-id-5 div.sk-container {/* jupyter's `normalize.less` sets `[hidden] { display: none; }` but bootstrap.min.css set `[hidden] { display: none !important; }` so we also need the `!important` here to be able to override the default hidden behavior on the sphinx rendered scikit-learn.org. See: https://github.com/scikit-learn/scikit-learn/issues/21755 */display: inline-block !important;position: relative;}#sk-container-id-5 div.sk-text-repr-fallback {display: none;}</style><div id=\"sk-container-id-5\" class=\"sk-top-container\"><div class=\"sk-text-repr-fallback\"><pre>KNeighborsClassifier(n_neighbors=4)</pre><b>In a Jupyter environment, please rerun this cell to show the HTML representation or trust the notebook. <br />On GitHub, the HTML representation is unable to render, please try loading this page with nbviewer.org.</b></div><div class=\"sk-container\" hidden><div class=\"sk-item\"><div class=\"sk-estimator sk-toggleable\"><input class=\"sk-toggleable__control sk-hidden--visually\" id=\"sk-estimator-id-5\" type=\"checkbox\" checked><label for=\"sk-estimator-id-5\" class=\"sk-toggleable__label sk-toggleable__label-arrow\">KNeighborsClassifier</label><div class=\"sk-toggleable__content\"><pre>KNeighborsClassifier(n_neighbors=4)</pre></div></div></div></div></div>"
      ],
      "text/plain": [
       "KNeighborsClassifier(n_neighbors=4)"
      ]
     },
     "execution_count": 38,
     "metadata": {},
     "output_type": "execute_result"
    }
   ],
   "source": [
    "knn1 = KNeighborsClassifier(n_neighbors=1)\n",
    "knn1.fit(X_train, y_train)\n",
    "\n",
    "knn2 = KNeighborsClassifier(n_neighbors=2)\n",
    "knn2.fit(X_train, y_train)\n",
    "\n",
    "knn3 = KNeighborsClassifier(n_neighbors=3)\n",
    "knn3.fit(X_train, y_train)\n",
    "\n",
    "knn4 = KNeighborsClassifier(n_neighbors=4)\n",
    "knn4.fit(X_train, y_train)"
   ]
  },
  {
   "cell_type": "code",
   "execution_count": 39,
   "id": "a448ae3b-6dd3-4c1d-afc7-f413c595220f",
   "metadata": {
    "tags": []
   },
   "outputs": [
    {
     "name": "stdout",
     "output_type": "stream",
     "text": [
      "Correctness for 1 neighbor: 0.916083916083916\n",
      "Correctness for 2 neighbors: 0.9020979020979021\n",
      "Correctness for 3 neighbors: 0.9230769230769231\n",
      "Correctness for 4 neighbors: 0.9230769230769231\n"
     ]
    }
   ],
   "source": [
    "print(\"Correctness for 1 neighbor: \" + str(knn1.score(X_test, y_test)))\n",
    "print(\"Correctness for 2 neighbors: \" + str(knn2.score(X_test, y_test)))\n",
    "print(\"Correctness for 3 neighbors: \" + str(knn3.score(X_test, y_test)))\n",
    "print(\"Correctness for 4 neighbors: \" + str(knn4.score(X_test, y_test)))"
   ]
  },
  {
   "cell_type": "markdown",
   "id": "1e7038e5-263a-4bc1-8752-3b90d49faf93",
   "metadata": {},
   "source": [
    "Вывод: load_breast_cancer - это еще один набор данных, предоставляемый библиотекой scikit-learn. Этот набор данных содержит информацию о характеристиках опухолей груди, а также их природе (доброкачественные или злокачественные). На основе предоставленных данных, модель k-ближайших соседей с k=3 и k=4 показывает наилучшее качество, с точностью около 92.31%. Эти модели могут быть хорошими кандидатами для классификации опухолей груди на злокачественные и доброкачественные на основе предоставленных признаков. "
   ]
  }
 ],
 "metadata": {
  "kernelspec": {
   "display_name": "Python 3 (ipykernel)",
   "language": "python",
   "name": "python3"
  },
  "language_info": {
   "codemirror_mode": {
    "name": "ipython",
    "version": 3
   },
   "file_extension": ".py",
   "mimetype": "text/x-python",
   "name": "python",
   "nbconvert_exporter": "python",
   "pygments_lexer": "ipython3",
   "version": "3.11.4"
  }
 },
 "nbformat": 4,
 "nbformat_minor": 5
}
